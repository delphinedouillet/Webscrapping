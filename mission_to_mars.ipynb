{
 "cells": [
  {
   "cell_type": "code",
   "execution_count": 1,
   "metadata": {},
   "outputs": [],
   "source": [
    "#Dependencies\n",
    "from bs4 import BeautifulSoup\n",
    "import requests\n",
    "import pymongo\n",
    "from splinter import Browser\n",
    "import pandas as pd"
   ]
  },
  {
   "cell_type": "code",
   "execution_count": 123,
   "metadata": {},
   "outputs": [
    {
     "name": "stdout",
     "output_type": "stream",
     "text": [
      "\n",
      "\n",
      "Opportunity Hunkers Down During Dust Storm\n",
      "\n",
      "\n",
      "\n",
      "It's the beginning of the end for the planet-encircling dust storm on Mars. But it could still be weeks, or even months, before skies are clear enough for NASA's Opportunity rover to recharge its batteries and phone home. \n",
      "\n"
     ]
    }
   ],
   "source": [
    "#scrape from Nasa website\n",
    "#url\n",
    "nasa_url =\"https://mars.nasa.gov/news/?page=0&per_page=40&order=publish_date+desc%2Ccreated_at+desc&search=&category=19%2C165%2C184%2C204&blank_scope=Latest\"\n",
    "response_nasa = requests.get(nasa_url)\n",
    "nasa_soup = BeautifulSoup(response_nasa.text, 'html.parser')\n",
    "\n",
    "# save the featured article\n",
    "news_title = nasa_soup.find(\"div\", class_=\"content_title\").text\n",
    "news_p = nasa_soup.find(\"div\", class_=\"rollover_description_inner\").text\n",
    "print(news_title)\n",
    "print(news_p)"
   ]
  },
  {
   "cell_type": "code",
   "execution_count": 86,
   "metadata": {},
   "outputs": [
    {
     "name": "stdout",
     "output_type": "stream",
     "text": [
      "/usr/local/bin/chromedriver\r\n"
     ]
    }
   ],
   "source": [
    "#Use splinter to go to the chosen webpage\n",
    "!which chromedriver\n",
    "executable_path = {'executable_path': '/usr/local/bin/chromedriver'}\n",
    "browser = Browser('chrome', **executable_path, headless=False)\n",
    "\n",
    "url =\"https://www.jpl.nasa.gov/spaceimages/?search=&category=Mars\"\n",
    "browser.visit(url)\n",
    "\n",
    "html = browser.html\n",
    "jpl_soup = BeautifulSoup(html, \"html.parser\")\n",
    "\n",
    "browser.click_link_by_partial_text('FULL IMAGE')\n",
    "#wait before clicking on the second command for webpage to fully load"
   ]
  },
  {
   "cell_type": "code",
   "execution_count": 88,
   "metadata": {},
   "outputs": [
    {
     "name": "stdout",
     "output_type": "stream",
     "text": [
      "https://www.jpl.nasa.gov/spaceimages/?search=&category=Mars/spaceimages/images/largesize/PIA18848_hires.jpg\n"
     ]
    }
   ],
   "source": [
    "browser.click_link_by_partial_text('more info')\n",
    "\n",
    "#create a new soup to scrape image's url\n",
    "html_image = browser.html\n",
    "soup = BeautifulSoup(html_image, \"html.parser\")\n",
    "\n",
    "img_url = soup.find(\"img\", class_=\"main_image\")[\"src\"]\n",
    "\n",
    "featured_image_url = \"https://www.jpl.nasa.gov/spaceimages/?search=&category=Mars\" + img_url\n",
    "\n",
    "print(featured_image_url)"
   ]
  },
  {
   "cell_type": "code",
   "execution_count": 102,
   "metadata": {},
   "outputs": [
    {
     "name": "stdout",
     "output_type": "stream",
     "text": [
      "\n",
      "Sol 2171 (2018-09-14), high -12C/10F, low -65C/-84F, pressure at 8.79 hPa, daylight 05:43-17:59\n",
      "\n"
     ]
    }
   ],
   "source": [
    "#scrape weather data from tweeter\n",
    "weather_url = \"https://twitter.com/marswxreport?lang=en\"\n",
    "response_weather = requests.get(weather_url)\n",
    "weather_soup = BeautifulSoup(response_weather.text, 'html.parser')\n",
    "\n",
    "#we need to take only the tweets posted by the channel\n",
    "\n",
    "weather_tweet = weather_soup.find_all('div', class_=\"js-tweet-text-container\")\n",
    "\n",
    "#go over the first 10 tweets\n",
    "for i in range(10):\n",
    "    tweets = weather_tweet[i].text\n",
    "    if \"Sol \" in tweets:\n",
    "        mars_weather = tweets\n",
    "        print(mars_weather)\n",
    "        break"
   ]
  },
  {
   "cell_type": "code",
   "execution_count": 113,
   "metadata": {},
   "outputs": [],
   "source": [
    "#mars fact\n",
    "mars_fact = \"https://space-facts.com/mars/\"\n",
    "\n",
    "tables = pd.read_html(mars_fact)\n",
    "\n",
    "df = tables[0]\n",
    "\n",
    "df.set_index([0], inplace=True)\n",
    "\n",
    "mars_fact_html = df.to_html('mars_fact.html')"
   ]
  },
  {
   "cell_type": "code",
   "execution_count": 117,
   "metadata": {},
   "outputs": [
    {
     "name": "stdout",
     "output_type": "stream",
     "text": [
      "/usr/local/bin/chromedriver\n",
      "https://astrogeology.usgs.gov/search/results?q=hemisphere+enhanced&k1=target&v1=Mars/cache/images/dfaf3849e74bf973b59eb50dab52b583_cerberus_enhanced.tif_thumb.png\n"
     ]
    }
   ],
   "source": [
    "#Mars Hemispheres Cerberus\n",
    "!which chromedriver\n",
    "executable_path = {'executable_path': '/usr/local/bin/chromedriver'}\n",
    "browser = Browser('chrome', **executable_path, headless=False)\n",
    "\n",
    "url =\"https://astrogeology.usgs.gov/search/results?q=hemisphere+enhanced&k1=target&v1=Mars\"\n",
    "browser.visit(url)\n",
    "\n",
    "html = browser.html\n",
    "hemispheres_soup = BeautifulSoup(html, \"html.parser\")\n",
    "\n",
    "browser.click_link_by_partial_text('Cerberus Hemisphere Enhanced')\n",
    "\n",
    "#create a new soup to scrape image's url\n",
    "html_image = browser.html\n",
    "soup = BeautifulSoup(html_image, \"html.parser\")\n",
    "\n",
    "img_url = soup.find(\"img\", class_=\"thumb\")[\"src\"]\n",
    "\n",
    "Cerberus_image_url = \"https://astrogeology.usgs.gov/search/results?q=hemisphere+enhanced&k1=target&v1=Mars\" + img_url\n",
    "\n",
    "print(Cerberus_image_url)\n"
   ]
  },
  {
   "cell_type": "code",
   "execution_count": 118,
   "metadata": {},
   "outputs": [
    {
     "name": "stdout",
     "output_type": "stream",
     "text": [
      "/usr/local/bin/chromedriver\n",
      "https://astrogeology.usgs.gov/search/results?q=hemisphere+enhanced&k1=target&v1=Mars/cache/images/7677c0a006b83871b5a2f66985ab5857_schiaparelli_enhanced.tif_thumb.png\n"
     ]
    }
   ],
   "source": [
    "#Mars Hemispheres Schiaparelli\n",
    "!which chromedriver\n",
    "executable_path = {'executable_path': '/usr/local/bin/chromedriver'}\n",
    "browser = Browser('chrome', **executable_path, headless=False)\n",
    "\n",
    "url =\"https://astrogeology.usgs.gov/search/results?q=hemisphere+enhanced&k1=target&v1=Mars\"\n",
    "browser.visit(url)\n",
    "\n",
    "html = browser.html\n",
    "hemispheres_soup = BeautifulSoup(html, \"html.parser\")\n",
    "\n",
    "browser.click_link_by_partial_text('Schiaparelli Hemisphere Enhanced')\n",
    "\n",
    "#create a new soup to scrape image's url\n",
    "html_image = browser.html\n",
    "soup = BeautifulSoup(html_image, \"html.parser\")\n",
    "\n",
    "img_url = soup.find(\"img\", class_=\"thumb\")[\"src\"]\n",
    "\n",
    "Schiaparelli_image_url = \"https://astrogeology.usgs.gov/search/results?q=hemisphere+enhanced&k1=target&v1=Mars\" + img_url\n",
    "\n",
    "print(Schiaparelli_image_url)"
   ]
  },
  {
   "cell_type": "code",
   "execution_count": 119,
   "metadata": {},
   "outputs": [
    {
     "name": "stdout",
     "output_type": "stream",
     "text": [
      "/usr/local/bin/chromedriver\n",
      "https://astrogeology.usgs.gov/search/results?q=hemisphere+enhanced&k1=target&v1=Mars/cache/images/aae41197e40d6d4f3ea557f8cfe51d15_syrtis_major_enhanced.tif_thumb.png\n"
     ]
    }
   ],
   "source": [
    "#Mars Hemispheres Syrtis\n",
    "!which chromedriver\n",
    "executable_path = {'executable_path': '/usr/local/bin/chromedriver'}\n",
    "browser = Browser('chrome', **executable_path, headless=False)\n",
    "\n",
    "url =\"https://astrogeology.usgs.gov/search/results?q=hemisphere+enhanced&k1=target&v1=Mars\"\n",
    "browser.visit(url)\n",
    "\n",
    "html = browser.html\n",
    "hemispheres_soup = BeautifulSoup(html, \"html.parser\")\n",
    "\n",
    "browser.click_link_by_partial_text('Syrtis Major Hemisphere Enhanced')\n",
    "\n",
    "#create a new soup to scrape image's url\n",
    "html_image = browser.html\n",
    "soup = BeautifulSoup(html_image, \"html.parser\")\n",
    "\n",
    "img_url = soup.find(\"img\", class_=\"thumb\")[\"src\"]\n",
    "\n",
    "Syrtis_image_url = \"https://astrogeology.usgs.gov/search/results?q=hemisphere+enhanced&k1=target&v1=Mars\" + img_url\n",
    "\n",
    "print(Syrtis_image_url)"
   ]
  },
  {
   "cell_type": "code",
   "execution_count": 120,
   "metadata": {},
   "outputs": [
    {
     "name": "stdout",
     "output_type": "stream",
     "text": [
      "/usr/local/bin/chromedriver\n",
      "https://astrogeology.usgs.gov/search/results?q=hemisphere+enhanced&k1=target&v1=Mars/cache/images/04085d99ec3713883a9a57f42be9c725_valles_marineris_enhanced.tif_thumb.png\n"
     ]
    }
   ],
   "source": [
    "#Mars Hemispheres Valles\n",
    "!which chromedriver\n",
    "executable_path = {'executable_path': '/usr/local/bin/chromedriver'}\n",
    "browser = Browser('chrome', **executable_path, headless=False)\n",
    "\n",
    "url =\"https://astrogeology.usgs.gov/search/results?q=hemisphere+enhanced&k1=target&v1=Mars\"\n",
    "browser.visit(url)\n",
    "\n",
    "html = browser.html\n",
    "hemispheres_soup = BeautifulSoup(html, \"html.parser\")\n",
    "\n",
    "browser.click_link_by_partial_text('Valles Marineris Hemisphere Enhanced')\n",
    "\n",
    "#create a new soup to scrape image's url\n",
    "html_image = browser.html\n",
    "soup = BeautifulSoup(html_image, \"html.parser\")\n",
    "\n",
    "img_url = soup.find(\"img\", class_=\"thumb\")[\"src\"]\n",
    "\n",
    "Valles_image_url = \"https://astrogeology.usgs.gov/search/results?q=hemisphere+enhanced&k1=target&v1=Mars\" + img_url\n",
    "\n",
    "print(Valles_image_url)"
   ]
  },
  {
   "cell_type": "code",
   "execution_count": 122,
   "metadata": {},
   "outputs": [
    {
     "data": {
      "text/plain": [
       "[{'title': 'Valles Marineris Hemisphere', 'img_url': 'Valles_image_url'},\n",
       " {'title': 'Cerberus Hemisphere', 'img_url': 'Cerberus_image_url'},\n",
       " {'title': 'Schiaparelli Hemisphere', 'img_url': 'Schiaparelli_image_url'},\n",
       " {'title': 'Syrtis Major Hemisphere', 'img_url': 'Syrtis_image_url'}]"
      ]
     },
     "execution_count": 122,
     "metadata": {},
     "output_type": "execute_result"
    }
   ],
   "source": [
    "hemisphere_image_urls = [\n",
    "    {\"title\": \"Valles Marineris Hemisphere\", \"img_url\": \"Valles_image_url\"},\n",
    "    {\"title\": \"Cerberus Hemisphere\", \"img_url\": \"Cerberus_image_url\"},\n",
    "    {\"title\": \"Schiaparelli Hemisphere\", \"img_url\": \"Schiaparelli_image_url\"},\n",
    "    {\"title\": \"Syrtis Major Hemisphere\", \"img_url\": \"Syrtis_image_url\"},\n",
    "]"
   ]
  },
  {
   "cell_type": "code",
   "execution_count": null,
   "metadata": {},
   "outputs": [],
   "source": []
  }
 ],
 "metadata": {
  "kernelspec": {
   "display_name": "Python 3",
   "language": "python",
   "name": "python3"
  },
  "language_info": {
   "codemirror_mode": {
    "name": "ipython",
    "version": 3
   },
   "file_extension": ".py",
   "mimetype": "text/x-python",
   "name": "python",
   "nbconvert_exporter": "python",
   "pygments_lexer": "ipython3",
   "version": "3.6.5"
  }
 },
 "nbformat": 4,
 "nbformat_minor": 2
}
